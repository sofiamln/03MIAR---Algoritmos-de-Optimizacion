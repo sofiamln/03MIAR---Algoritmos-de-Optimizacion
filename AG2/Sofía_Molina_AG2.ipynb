{
  "nbformat": 4,
  "nbformat_minor": 0,
  "metadata": {
    "colab": {
      "provenance": [],
      "authorship_tag": "ABX9TyM5HGBcKH5CjUlTRAlYRE8l",
      "include_colab_link": true
    },
    "kernelspec": {
      "name": "python3",
      "display_name": "Python 3"
    },
    "language_info": {
      "name": "python"
    }
  },
  "cells": [
    {
      "cell_type": "markdown",
      "metadata": {
        "id": "view-in-github",
        "colab_type": "text"
      },
      "source": [
        "<a href=\"https://colab.research.google.com/github/sofiamln/03MIAR---Algoritmos-de-Optimizacion/blob/main/AG2/Sof%C3%ADa_Molina_AG2.ipynb\" target=\"_parent\"><img src=\"https://colab.research.google.com/assets/colab-badge.svg\" alt=\"Open In Colab\"/></a>"
      ]
    },
    {
      "cell_type": "markdown",
      "source": [
        "Actividad guiada 2 de Algoritmos de Optimización"
      ],
      "metadata": {
        "id": "qrXF-1Aof_0T"
      }
    },
    {
      "cell_type": "markdown",
      "source": [
        "Sofía Molina Arias <br>\n",
        "\n",
        "Link: https://colab.research.google.com/drive/1QaB2Nh3GFLfWaZvW0l0EX11F0B03qMyP?usp=sharing\n",
        "\n",
        "Github: https://github.com/sofiamln/03MIAR---Algoritmos-de-Optimizacion.git"
      ],
      "metadata": {
        "id": "KJe-BLSWfuFf"
      }
    },
    {
      "cell_type": "code",
      "execution_count": 1,
      "metadata": {
        "id": "rAwjBQecR9pg"
      },
      "outputs": [],
      "source": [
        "import math"
      ]
    },
    {
      "cell_type": "markdown",
      "source": [
        "##Programación Dinámica. Viaje por el rio"
      ],
      "metadata": {
        "id": "VrkX5W1bg11u"
      }
    },
    {
      "cell_type": "code",
      "source": [
        "#Viaje por el río \n",
        "\n",
        "#Inicializamos la tabla de tarifas\n",
        "#Establecemos un valor muy alto en aquellos caminos que no pueden realizarse(esto es útil dado que nuestra finalidad es minimizar el precio,\n",
        "# así que si ese camino no existe, tomaría un valor muy alto para no elegir esta opción)\n",
        "\n",
        "tarifas = [\n",
        "[0,5,4,3,999,999,999],  \n",
        "[999,0,999,2,3,999,11],  \n",
        "[999,999, 0,1,999,4,10], \n",
        "[999,999,999, 0,5,6,9],\n",
        "[999,999, 999,999,0,999,4],\n",
        "[999,999, 999,999,999,0,3],\n",
        "[999,999,999,999,999,999,0]\n",
        "]\n",
        "\n",
        "\n",
        "tarifas"
      ],
      "metadata": {
        "colab": {
          "base_uri": "https://localhost:8080/"
        },
        "id": "o_TiXqCbhFKJ",
        "outputId": "658a9136-faa4-4268-ddfb-089b9729d35a"
      },
      "execution_count": 2,
      "outputs": [
        {
          "output_type": "execute_result",
          "data": {
            "text/plain": [
              "[[0, 5, 4, 3, 999, 999, 999],\n",
              " [999, 0, 999, 2, 3, 999, 11],\n",
              " [999, 999, 0, 1, 999, 4, 10],\n",
              " [999, 999, 999, 0, 5, 6, 9],\n",
              " [999, 999, 999, 999, 0, 999, 4],\n",
              " [999, 999, 999, 999, 999, 0, 3],\n",
              " [999, 999, 999, 999, 999, 999, 0]]"
            ]
          },
          "metadata": {},
          "execution_count": 2
        }
      ]
    },
    {
      "cell_type": "markdown",
      "source": [
        "Definimos la función Precios que servirá para calcular una matriz con los diferentes precios que exiten para de un nodo al siguiente.\n",
        "\n"
      ],
      "metadata": {
        "id": "gOt3Haf0dmAr"
      }
    },
    {
      "cell_type": "code",
      "source": [
        "def Precios(tarifas):\n",
        "\n",
        "  #Total de Nodos\n",
        "  n = len(tarifas[0])\n",
        "  \n",
        "  #Inicialización las variables que vamos a devolver en la función\n",
        "  precios = [ [9999]*n for i in [9999]*n] \n",
        "  ruta = [ [\"\"]*n for i in [\"\"]*n]\n",
        "  \n",
        "  #Recorremos todos los nodos de la matriz, y de ahí hacia delante ya que no podemos volver de un nodo al anterior\n",
        "  for i in range(n-1):\n",
        "    for j in range(i+1, n):\n",
        "      minimo = tarifas[i][j]\n",
        "      ruta[i][j] = i\n",
        "      \n",
        "      for k in range(i, j):\n",
        "        if precios[i][k] + tarifas[k][j] < minimo:\n",
        "            minimo = min(minimo, precios[i][k] + tarifas[k][j] )\n",
        "            ruta[i][j] = k\n",
        "        precios[i][j] = minimo\n",
        "        \n",
        "  return precios,ruta\n",
        "\n",
        "Precios(tarifas)"
      ],
      "metadata": {
        "colab": {
          "base_uri": "https://localhost:8080/"
        },
        "id": "ALDL1L81jPr-",
        "outputId": "1b5cbaa1-22a0-41b8-bb66-1dae8007f6bb"
      },
      "execution_count": 3,
      "outputs": [
        {
          "output_type": "execute_result",
          "data": {
            "text/plain": [
              "([[9999, 5, 4, 3, 8, 8, 11],\n",
              "  [9999, 9999, 999, 2, 3, 8, 7],\n",
              "  [9999, 9999, 9999, 1, 6, 4, 7],\n",
              "  [9999, 9999, 9999, 9999, 5, 6, 9],\n",
              "  [9999, 9999, 9999, 9999, 9999, 999, 4],\n",
              "  [9999, 9999, 9999, 9999, 9999, 9999, 3],\n",
              "  [9999, 9999, 9999, 9999, 9999, 9999, 9999]],\n",
              " [['', 0, 0, 0, 1, 2, 5],\n",
              "  ['', '', 1, 1, 1, 3, 4],\n",
              "  ['', '', '', 2, 3, 2, 5],\n",
              "  ['', '', '', '', 3, 3, 3],\n",
              "  ['', '', '', '', '', 4, 4],\n",
              "  ['', '', '', '', '', '', 5],\n",
              "  ['', '', '', '', '', '', '']])"
            ]
          },
          "metadata": {},
          "execution_count": 3
        }
      ]
    },
    {
      "cell_type": "code",
      "source": [
        "#Calculamos la ruta a partir de la matriz obtenida en la función anterior\n",
        "def calcular_ruta(ruta, desde, hasta):\n",
        "  if desde == ruta[desde][hasta]:\n",
        "    return desde \n",
        "  else:\n",
        "    return str(calcular_ruta(ruta, desde, ruta[desde][hasta])) +  ',' + str(ruta[desde][hasta]) \n",
        "\n",
        "precios,ruta = Precios(tarifas)  \n",
        "\n",
        "print(\"\\nLa ruta es:\")  \n",
        "calcular_ruta(ruta, 0,6) "
      ],
      "metadata": {
        "colab": {
          "base_uri": "https://localhost:8080/",
          "height": 71
        },
        "id": "wf9PcRnEjeWS",
        "outputId": "cd2855f5-3981-46a4-b18f-f6d551127b4e"
      },
      "execution_count": 4,
      "outputs": [
        {
          "output_type": "stream",
          "name": "stdout",
          "text": [
            "\n",
            "La ruta es:\n"
          ]
        },
        {
          "output_type": "execute_result",
          "data": {
            "text/plain": [
              "'0,2,5'"
            ],
            "application/vnd.google.colaboratory.intrinsic+json": {
              "type": "string"
            }
          },
          "metadata": {},
          "execution_count": 4
        }
      ]
    },
    {
      "cell_type": "markdown",
      "source": [
        "##Problema de Asignacion de tarea"
      ],
      "metadata": {
        "id": "utbTQmvanrSk"
      }
    },
    {
      "cell_type": "code",
      "source": [
        "#Asignación de tareas - Algoritmo de Ramificación y Poda\n",
        "\n",
        "costes=[[11,12,18,40],\n",
        "        [14,15,13,22],\n",
        "        [11,17,19,23],\n",
        "        [17,14,20,28]]\n",
        "        "
      ],
      "metadata": {
        "id": "Pmvd7YDonsLK"
      },
      "execution_count": 5,
      "outputs": []
    },
    {
      "cell_type": "code",
      "source": [
        "#Calculo del valor de una solucion parcial\n",
        "def valor(S,costes):\n",
        "  valor = 0\n",
        "  for i in range(len(S)):\n",
        "    valor += costes[S[i]][i] \n",
        "  return valor\n",
        "\n",
        "\n",
        "\n",
        "valor((0, 1, 2, 3  ),costes)"
      ],
      "metadata": {
        "colab": {
          "base_uri": "https://localhost:8080/"
        },
        "id": "l7boXR8gp4It",
        "outputId": "322cec1b-c3e4-4527-c9ed-628d70788f9d"
      },
      "execution_count": 6,
      "outputs": [
        {
          "output_type": "execute_result",
          "data": {
            "text/plain": [
              "73"
            ]
          },
          "metadata": {},
          "execution_count": 6
        }
      ]
    },
    {
      "cell_type": "code",
      "source": [
        "#Coste inferior para soluciones parciales\n",
        "#  (1,3,) Se asigna la tarea 1 al agente 0 y la tarea 3 al agente 1\n",
        "\n",
        "def CI(S,costes):\n",
        "  valor = 0\n",
        "  #Valores establecidos\n",
        "  for i in range(len(S)):\n",
        "    valor += costes[i][S[i]]\n",
        "\n",
        "  #Estimacion\n",
        "  for i in range( len(S), len(costes)   ):\n",
        "    valor += min( [ costes[j][i] for j in range(len(S), len(costes))  ])\n",
        "  return valor\n",
        "\n",
        "def CS(S,costes):\n",
        "  valor = 0\n",
        "  #Valores establecidos\n",
        "  for i in range(len(S)):\n",
        "    valor += costes[i][S[i]]\n",
        "\n",
        "  #Estimacion\n",
        "  for i in range( len(S), len(costes)   ):\n",
        "    valor += max( [ costes[j][i] for j in range(len(S), len(costes))  ])\n",
        "  return valor\n",
        "\n",
        "CI((0,1),costes)"
      ],
      "metadata": {
        "colab": {
          "base_uri": "https://localhost:8080/"
        },
        "id": "u87XSmCBq_vV",
        "outputId": "7fb3996c-adf9-472e-ab7c-ca165678097b"
      },
      "execution_count": 7,
      "outputs": [
        {
          "output_type": "execute_result",
          "data": {
            "text/plain": [
              "68"
            ]
          },
          "metadata": {},
          "execution_count": 7
        }
      ]
    },
    {
      "cell_type": "code",
      "source": [
        "#Genera tantos hijos como como posibilidades haya para la siguiente elemento de la tupla\n",
        "#(0,) -> (0,1), (0,2), (0,3)\n",
        "def crear_hijos(nodo, N):\n",
        "  hijos = []\n",
        "  for i in range(N ):\n",
        "    if i not in nodo:\n",
        "      hijos.append({'s':nodo +(i,)    })\n",
        "  return hijos\n",
        "\n",
        "crear_hijos((0,) , 4)"
      ],
      "metadata": {
        "colab": {
          "base_uri": "https://localhost:8080/"
        },
        "id": "dNvXYr2Sq4Sx",
        "outputId": "fcd3dc9f-716a-45bf-f3b4-ec7f0ba9e11e"
      },
      "execution_count": 8,
      "outputs": [
        {
          "output_type": "execute_result",
          "data": {
            "text/plain": [
              "[{'s': (0, 1)}, {'s': (0, 2)}, {'s': (0, 3)}]"
            ]
          },
          "metadata": {},
          "execution_count": 8
        }
      ]
    },
    {
      "cell_type": "code",
      "source": [
        "def ramificacion_y_poda(COSTES):\n",
        "#Construccion iterativa de soluciones(arbol). En cada etapa asignamos un agente(ramas).\n",
        "#Nodos del grafo  { s:(1,2),CI:3,CS:5  }\n",
        "  #print(COSTES)\n",
        "  DIMENSION = len(COSTES)  \n",
        "  MEJOR_SOLUCION=tuple( i for i in range(len(COSTES)) )\n",
        "  CotaSup = valor(MEJOR_SOLUCION,COSTES)\n",
        "  #print(\"Cota Superior:\", CotaSup)\n",
        "\n",
        "  NODOS=[]\n",
        "  NODOS.append({'s':(), 'ci':CI((),COSTES)    } )\n",
        "\n",
        "  iteracion = 0\n",
        "\n",
        "  while( len(NODOS) > 0):\n",
        "    iteracion +=1\n",
        "\n",
        "    nodo_prometedor = [ min(NODOS, key=lambda x:x['ci']) ][0]['s']\n",
        "    #print(\"Nodo prometedor:\", nodo_prometedor)\n",
        "\n",
        "    #Ramificacion\n",
        "    #Se generan los hijos\n",
        "    HIJOS =[ {'s':x['s'], 'ci':CI(x['s'], COSTES)   } for x in crear_hijos(nodo_prometedor, DIMENSION) ]\n",
        "\n",
        "    #Revisamos la cota superior y nos quedamos con la mejor solucion si llegamos a una solucion final\n",
        "    NODO_FINAL = [x for x in HIJOS if len(x['s']) == DIMENSION  ]\n",
        "    if len(NODO_FINAL ) >0: \n",
        "      #print(\"\\n********Soluciones:\",  [x for x in HIJOS if len(x['s']) == DIMENSION  ] )\n",
        "      if NODO_FINAL[0]['ci'] < CotaSup:\n",
        "        CotaSup = NODO_FINAL[0]['ci']\n",
        "        MEJOR_SOLUCION = NODO_FINAL\n",
        " \n",
        "    #Poda\n",
        "    HIJOS = [x for x in HIJOS if x['ci'] < CotaSup   ]\n",
        "\n",
        "    #Añadimos los hijos \n",
        "    NODOS.extend(HIJOS) \n",
        "\n",
        "    #Eliminamos el nodo ramificado\n",
        "    NODOS =  [  x for x in NODOS if x['s'] != nodo_prometedor    ]\n",
        "   \n",
        "  print(\"La solucion final es:\" ,MEJOR_SOLUCION , \" en \" , iteracion , \" iteraciones\" , \" para dimension: \" ,DIMENSION  )\n",
        "      \n",
        "\n",
        "\n",
        "ramificacion_y_poda(costes)"
      ],
      "metadata": {
        "colab": {
          "base_uri": "https://localhost:8080/"
        },
        "id": "3Hr9NY4gZrG0",
        "outputId": "3ba70c18-1eb9-43ff-cd94-6142eec36aec"
      },
      "execution_count": 9,
      "outputs": [
        {
          "output_type": "stream",
          "name": "stdout",
          "text": [
            "La solucion final es: [{'s': (1, 2, 0, 3), 'ci': 64}]  en  10  iteraciones  para dimension:  4\n"
          ]
        }
      ]
    },
    {
      "cell_type": "markdown",
      "source": [
        "## Algoritmo por fuerza bruta"
      ],
      "metadata": {
        "id": "hnc6_pCnQP8G"
      }
    },
    {
      "cell_type": "code",
      "source": [
        "import numpy as np\n",
        "\n",
        "\n",
        "def contador(elemento,lista):\n",
        "  cont=0\n",
        "  for i in lista:\n",
        "    if i==elemento:\n",
        "      cont+=1\n",
        "  return cont\n",
        "\n",
        "\n",
        "def asignacion_tareas(costes):\n",
        "  n,m=len(costes),len(costes[0])\n",
        "  total=0\n",
        "  tareas=[0]*n\n",
        "\n",
        "  for i in range(n):\n",
        "    minimo=costes[i][0]\n",
        "    tareas[i]=1\n",
        "    while contador(tareas[i],tareas)>1:\n",
        "          tareas[i]+=1\n",
        "\n",
        "    for j in range(m):\n",
        "      #print(costes[i][j])\n",
        "      if minimo>=costes[i][j] and (j+1 not in tareas):\n",
        "        minimo=costes[i][j]\n",
        "        tareas[i]=j+1\n",
        "    total+=minimo\n",
        "\n",
        "  print('Las tareas se asignan de la siguiente manera: ', tareas,'y el coste total sería: ',total)\n",
        "\n",
        "\n",
        "costes=[[11,12,18,40],\n",
        "        [14,15,13,22],\n",
        "        [11,17,19,23],\n",
        "        [17,14,20,28]]\n",
        "print(asignacion_tareas(costes))"
      ],
      "metadata": {
        "colab": {
          "base_uri": "https://localhost:8080/"
        },
        "id": "wGYRgdKaQPU2",
        "outputId": "be783a19-da09-4950-b53b-9795a953a797"
      },
      "execution_count": 10,
      "outputs": [
        {
          "output_type": "stream",
          "name": "stdout",
          "text": [
            "Las tareas se asignan de la siguiente manera:  [1, 3, 2, 4] y el coste total sería:  52\n",
            "None\n"
          ]
        }
      ]
    },
    {
      "cell_type": "markdown",
      "source": [
        "Ahora vamos a ir probando diferentes matrices aleatorias con tamaños más grandes, para ver hasta qué tamaño el algoritmo de fuerza bruta es aplicable. "
      ],
      "metadata": {
        "id": "S43DQFx6nnmo"
      }
    },
    {
      "cell_type": "code",
      "source": [
        "from numpy import random\n",
        "\n",
        "m=np.random.randint(100,size=((8,8)))\n",
        "print(m)\n",
        "\n",
        "print(asignacion_tareas(m))\n",
        "ramificacion_y_poda(m)"
      ],
      "metadata": {
        "colab": {
          "base_uri": "https://localhost:8080/"
        },
        "id": "eUWy_lePnnE0",
        "outputId": "98c675c7-2b1c-44bd-89eb-97133352d39c"
      },
      "execution_count": 28,
      "outputs": [
        {
          "output_type": "stream",
          "name": "stdout",
          "text": [
            "[[22 58 83  7 54 91 15 12]\n",
            " [33 59 12 26 64 78 82  7]\n",
            " [63 79 43 61  5 64 94  1]\n",
            " [72 16 79 61 85  7 35 70]\n",
            " [89 66 51 54 61 15 16 89]\n",
            " [55 96  3 50  7 53 26 16]\n",
            " [75 56 53 90 25 88 95 69]\n",
            " [66 49 44 60 30 54 76 20]]\n",
            "Las tareas se asignan de la siguiente manera:  [4, 8, 5, 6, 7, 3, 2, 1] y el coste total sería:  167\n",
            "None\n",
            "La solucion final es: [{'s': (3, 0, 7, 5, 6, 2, 4, 1), 'ci': 141}]  en  420  iteraciones  para dimension:  8\n"
          ]
        }
      ]
    },
    {
      "cell_type": "code",
      "source": [
        "m=np.random.randint(100,size=((100,100)))\n",
        "print(m)\n",
        "\n",
        "print(asignacion_tareas(m))\n",
        "ramificacion_y_poda(m)"
      ],
      "metadata": {
        "colab": {
          "base_uri": "https://localhost:8080/",
          "height": 514
        },
        "id": "qsXTZxOlsV6E",
        "outputId": "d83cff0e-7c8c-43d2-d2a8-b8e040344248"
      },
      "execution_count": 29,
      "outputs": [
        {
          "output_type": "stream",
          "name": "stdout",
          "text": [
            "[[71 52 49 ...  7 15 59]\n",
            " [63 13 13 ... 75 76 97]\n",
            " [43 21 17 ... 95 83 63]\n",
            " ...\n",
            " [41 44  9 ... 51 48 32]\n",
            " [28 98  1 ... 12 14  0]\n",
            " [49 13 80 ... 70 90 93]]\n",
            "Las tareas se asignan de la siguiente manera:  [28, 87, 16, 17, 58, 75, 25, 18, 41, 95, 68, 63, 47, 49, 59, 24, 30, 35, 54, 94, 48, 5, 79, 99, 100, 93, 91, 65, 88, 62, 11, 13, 12, 72, 39, 19, 70, 52, 74, 27, 43, 90, 6, 23, 73, 1, 57, 45, 26, 42, 34, 76, 77, 92, 44, 56, 60, 40, 37, 86, 71, 29, 83, 46, 69, 53, 82, 33, 20, 7, 51, 50, 36, 98, 85, 22, 15, 14, 2, 66, 21, 96, 78, 31, 3, 9, 97, 8, 4, 38, 32, 55, 81, 67, 84, 89, 64, 80, 61, 10] y el coste total sería:  265\n",
            "None\n"
          ]
        },
        {
          "output_type": "error",
          "ename": "KeyboardInterrupt",
          "evalue": "ignored",
          "traceback": [
            "\u001b[0;31m---------------------------------------------------------------------------\u001b[0m",
            "\u001b[0;31mKeyboardInterrupt\u001b[0m                         Traceback (most recent call last)",
            "\u001b[0;32m<ipython-input-29-162598886b6e>\u001b[0m in \u001b[0;36m<module>\u001b[0;34m\u001b[0m\n\u001b[1;32m      3\u001b[0m \u001b[0;34m\u001b[0m\u001b[0m\n\u001b[1;32m      4\u001b[0m \u001b[0mprint\u001b[0m\u001b[0;34m(\u001b[0m\u001b[0masignacion_tareas\u001b[0m\u001b[0;34m(\u001b[0m\u001b[0mm\u001b[0m\u001b[0;34m)\u001b[0m\u001b[0;34m)\u001b[0m\u001b[0;34m\u001b[0m\u001b[0;34m\u001b[0m\u001b[0m\n\u001b[0;32m----> 5\u001b[0;31m \u001b[0mramificacion_y_poda\u001b[0m\u001b[0;34m(\u001b[0m\u001b[0mm\u001b[0m\u001b[0;34m)\u001b[0m\u001b[0;34m\u001b[0m\u001b[0;34m\u001b[0m\u001b[0m\n\u001b[0m",
            "\u001b[0;32m<ipython-input-9-8d39541f1de5>\u001b[0m in \u001b[0;36mramificacion_y_poda\u001b[0;34m(COSTES)\u001b[0m\n\u001b[1;32m     21\u001b[0m     \u001b[0;31m#Ramificacion\u001b[0m\u001b[0;34m\u001b[0m\u001b[0;34m\u001b[0m\u001b[0;34m\u001b[0m\u001b[0m\n\u001b[1;32m     22\u001b[0m     \u001b[0;31m#Se generan los hijos\u001b[0m\u001b[0;34m\u001b[0m\u001b[0;34m\u001b[0m\u001b[0;34m\u001b[0m\u001b[0m\n\u001b[0;32m---> 23\u001b[0;31m     \u001b[0mHIJOS\u001b[0m \u001b[0;34m=\u001b[0m\u001b[0;34m[\u001b[0m \u001b[0;34m{\u001b[0m\u001b[0;34m's'\u001b[0m\u001b[0;34m:\u001b[0m\u001b[0mx\u001b[0m\u001b[0;34m[\u001b[0m\u001b[0;34m's'\u001b[0m\u001b[0;34m]\u001b[0m\u001b[0;34m,\u001b[0m \u001b[0;34m'ci'\u001b[0m\u001b[0;34m:\u001b[0m\u001b[0mCI\u001b[0m\u001b[0;34m(\u001b[0m\u001b[0mx\u001b[0m\u001b[0;34m[\u001b[0m\u001b[0;34m's'\u001b[0m\u001b[0;34m]\u001b[0m\u001b[0;34m,\u001b[0m \u001b[0mCOSTES\u001b[0m\u001b[0;34m)\u001b[0m   \u001b[0;34m}\u001b[0m \u001b[0;32mfor\u001b[0m \u001b[0mx\u001b[0m \u001b[0;32min\u001b[0m \u001b[0mcrear_hijos\u001b[0m\u001b[0;34m(\u001b[0m\u001b[0mnodo_prometedor\u001b[0m\u001b[0;34m,\u001b[0m \u001b[0mDIMENSION\u001b[0m\u001b[0;34m)\u001b[0m \u001b[0;34m]\u001b[0m\u001b[0;34m\u001b[0m\u001b[0;34m\u001b[0m\u001b[0m\n\u001b[0m\u001b[1;32m     24\u001b[0m \u001b[0;34m\u001b[0m\u001b[0m\n\u001b[1;32m     25\u001b[0m     \u001b[0;31m#Revisamos la cota superior y nos quedamos con la mejor solucion si llegamos a una solucion final\u001b[0m\u001b[0;34m\u001b[0m\u001b[0;34m\u001b[0m\u001b[0;34m\u001b[0m\u001b[0m\n",
            "\u001b[0;32m<ipython-input-9-8d39541f1de5>\u001b[0m in \u001b[0;36m<listcomp>\u001b[0;34m(.0)\u001b[0m\n\u001b[1;32m     21\u001b[0m     \u001b[0;31m#Ramificacion\u001b[0m\u001b[0;34m\u001b[0m\u001b[0;34m\u001b[0m\u001b[0;34m\u001b[0m\u001b[0m\n\u001b[1;32m     22\u001b[0m     \u001b[0;31m#Se generan los hijos\u001b[0m\u001b[0;34m\u001b[0m\u001b[0;34m\u001b[0m\u001b[0;34m\u001b[0m\u001b[0m\n\u001b[0;32m---> 23\u001b[0;31m     \u001b[0mHIJOS\u001b[0m \u001b[0;34m=\u001b[0m\u001b[0;34m[\u001b[0m \u001b[0;34m{\u001b[0m\u001b[0;34m's'\u001b[0m\u001b[0;34m:\u001b[0m\u001b[0mx\u001b[0m\u001b[0;34m[\u001b[0m\u001b[0;34m's'\u001b[0m\u001b[0;34m]\u001b[0m\u001b[0;34m,\u001b[0m \u001b[0;34m'ci'\u001b[0m\u001b[0;34m:\u001b[0m\u001b[0mCI\u001b[0m\u001b[0;34m(\u001b[0m\u001b[0mx\u001b[0m\u001b[0;34m[\u001b[0m\u001b[0;34m's'\u001b[0m\u001b[0;34m]\u001b[0m\u001b[0;34m,\u001b[0m \u001b[0mCOSTES\u001b[0m\u001b[0;34m)\u001b[0m   \u001b[0;34m}\u001b[0m \u001b[0;32mfor\u001b[0m \u001b[0mx\u001b[0m \u001b[0;32min\u001b[0m \u001b[0mcrear_hijos\u001b[0m\u001b[0;34m(\u001b[0m\u001b[0mnodo_prometedor\u001b[0m\u001b[0;34m,\u001b[0m \u001b[0mDIMENSION\u001b[0m\u001b[0;34m)\u001b[0m \u001b[0;34m]\u001b[0m\u001b[0;34m\u001b[0m\u001b[0;34m\u001b[0m\u001b[0m\n\u001b[0m\u001b[1;32m     24\u001b[0m \u001b[0;34m\u001b[0m\u001b[0m\n\u001b[1;32m     25\u001b[0m     \u001b[0;31m#Revisamos la cota superior y nos quedamos con la mejor solucion si llegamos a una solucion final\u001b[0m\u001b[0;34m\u001b[0m\u001b[0;34m\u001b[0m\u001b[0;34m\u001b[0m\u001b[0m\n",
            "\u001b[0;32m<ipython-input-7-0409ed1412ce>\u001b[0m in \u001b[0;36mCI\u001b[0;34m(S, costes)\u001b[0m\n\u001b[1;32m     10\u001b[0m   \u001b[0;31m#Estimacion\u001b[0m\u001b[0;34m\u001b[0m\u001b[0;34m\u001b[0m\u001b[0;34m\u001b[0m\u001b[0m\n\u001b[1;32m     11\u001b[0m   \u001b[0;32mfor\u001b[0m \u001b[0mi\u001b[0m \u001b[0;32min\u001b[0m \u001b[0mrange\u001b[0m\u001b[0;34m(\u001b[0m \u001b[0mlen\u001b[0m\u001b[0;34m(\u001b[0m\u001b[0mS\u001b[0m\u001b[0;34m)\u001b[0m\u001b[0;34m,\u001b[0m \u001b[0mlen\u001b[0m\u001b[0;34m(\u001b[0m\u001b[0mcostes\u001b[0m\u001b[0;34m)\u001b[0m   \u001b[0;34m)\u001b[0m\u001b[0;34m:\u001b[0m\u001b[0;34m\u001b[0m\u001b[0;34m\u001b[0m\u001b[0m\n\u001b[0;32m---> 12\u001b[0;31m     \u001b[0mvalor\u001b[0m \u001b[0;34m+=\u001b[0m \u001b[0mmin\u001b[0m\u001b[0;34m(\u001b[0m \u001b[0;34m[\u001b[0m \u001b[0mcostes\u001b[0m\u001b[0;34m[\u001b[0m\u001b[0mj\u001b[0m\u001b[0;34m]\u001b[0m\u001b[0;34m[\u001b[0m\u001b[0mi\u001b[0m\u001b[0;34m]\u001b[0m \u001b[0;32mfor\u001b[0m \u001b[0mj\u001b[0m \u001b[0;32min\u001b[0m \u001b[0mrange\u001b[0m\u001b[0;34m(\u001b[0m\u001b[0mlen\u001b[0m\u001b[0;34m(\u001b[0m\u001b[0mS\u001b[0m\u001b[0;34m)\u001b[0m\u001b[0;34m,\u001b[0m \u001b[0mlen\u001b[0m\u001b[0;34m(\u001b[0m\u001b[0mcostes\u001b[0m\u001b[0;34m)\u001b[0m\u001b[0;34m)\u001b[0m  \u001b[0;34m]\u001b[0m\u001b[0;34m)\u001b[0m\u001b[0;34m\u001b[0m\u001b[0;34m\u001b[0m\u001b[0m\n\u001b[0m\u001b[1;32m     13\u001b[0m   \u001b[0;32mreturn\u001b[0m \u001b[0mvalor\u001b[0m\u001b[0;34m\u001b[0m\u001b[0;34m\u001b[0m\u001b[0m\n\u001b[1;32m     14\u001b[0m \u001b[0;34m\u001b[0m\u001b[0m\n",
            "\u001b[0;32m<ipython-input-7-0409ed1412ce>\u001b[0m in \u001b[0;36m<listcomp>\u001b[0;34m(.0)\u001b[0m\n\u001b[1;32m     10\u001b[0m   \u001b[0;31m#Estimacion\u001b[0m\u001b[0;34m\u001b[0m\u001b[0;34m\u001b[0m\u001b[0;34m\u001b[0m\u001b[0m\n\u001b[1;32m     11\u001b[0m   \u001b[0;32mfor\u001b[0m \u001b[0mi\u001b[0m \u001b[0;32min\u001b[0m \u001b[0mrange\u001b[0m\u001b[0;34m(\u001b[0m \u001b[0mlen\u001b[0m\u001b[0;34m(\u001b[0m\u001b[0mS\u001b[0m\u001b[0;34m)\u001b[0m\u001b[0;34m,\u001b[0m \u001b[0mlen\u001b[0m\u001b[0;34m(\u001b[0m\u001b[0mcostes\u001b[0m\u001b[0;34m)\u001b[0m   \u001b[0;34m)\u001b[0m\u001b[0;34m:\u001b[0m\u001b[0;34m\u001b[0m\u001b[0;34m\u001b[0m\u001b[0m\n\u001b[0;32m---> 12\u001b[0;31m     \u001b[0mvalor\u001b[0m \u001b[0;34m+=\u001b[0m \u001b[0mmin\u001b[0m\u001b[0;34m(\u001b[0m \u001b[0;34m[\u001b[0m \u001b[0mcostes\u001b[0m\u001b[0;34m[\u001b[0m\u001b[0mj\u001b[0m\u001b[0;34m]\u001b[0m\u001b[0;34m[\u001b[0m\u001b[0mi\u001b[0m\u001b[0;34m]\u001b[0m \u001b[0;32mfor\u001b[0m \u001b[0mj\u001b[0m \u001b[0;32min\u001b[0m \u001b[0mrange\u001b[0m\u001b[0;34m(\u001b[0m\u001b[0mlen\u001b[0m\u001b[0;34m(\u001b[0m\u001b[0mS\u001b[0m\u001b[0;34m)\u001b[0m\u001b[0;34m,\u001b[0m \u001b[0mlen\u001b[0m\u001b[0;34m(\u001b[0m\u001b[0mcostes\u001b[0m\u001b[0;34m)\u001b[0m\u001b[0;34m)\u001b[0m  \u001b[0;34m]\u001b[0m\u001b[0;34m)\u001b[0m\u001b[0;34m\u001b[0m\u001b[0;34m\u001b[0m\u001b[0m\n\u001b[0m\u001b[1;32m     13\u001b[0m   \u001b[0;32mreturn\u001b[0m \u001b[0mvalor\u001b[0m\u001b[0;34m\u001b[0m\u001b[0;34m\u001b[0m\u001b[0m\n\u001b[1;32m     14\u001b[0m \u001b[0;34m\u001b[0m\u001b[0m\n",
            "\u001b[0;31mKeyboardInterrupt\u001b[0m: "
          ]
        }
      ]
    },
    {
      "cell_type": "markdown",
      "source": [
        "Para tamaño n=100, el algortimo de ramificación y poda tarda un tiempo excesivo en ejecutarse."
      ],
      "metadata": {
        "id": "uRLiBm-1sl2a"
      }
    }
  ]
}