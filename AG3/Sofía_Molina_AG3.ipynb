{
  "nbformat": 4,
  "nbformat_minor": 0,
  "metadata": {
    "colab": {
      "provenance": [],
      "authorship_tag": "ABX9TyMJWqpwl8HYCPpqPyvXLCNB",
      "include_colab_link": true
    },
    "kernelspec": {
      "name": "python3",
      "display_name": "Python 3"
    },
    "language_info": {
      "name": "python"
    }
  },
  "cells": [
    {
      "cell_type": "markdown",
      "metadata": {
        "id": "view-in-github",
        "colab_type": "text"
      },
      "source": [
        "<a href=\"https://colab.research.google.com/github/sofiamln/03MIAR---Algoritmos-de-Optimizacion/blob/main/AG3/Sof%C3%ADa_Molina_AG3.ipynb\" target=\"_parent\"><img src=\"https://colab.research.google.com/assets/colab-badge.svg\" alt=\"Open In Colab\"/></a>"
      ]
    },
    {
      "cell_type": "markdown",
      "source": [
        "## Actividad guiada 2 de Algoritmos de Optimización\n",
        "\n",
        "\n",
        "Sofía Molina Arias \n",
        "Link: https://colab.research.google.com/drive/1F6hSQuB21f-H1Kt5zRhQjF_L-2s1f_8b?usp=sharing\n",
        "\n",
        "Github: https://github.com/sofiamln/03MIAR---Algoritmos-de-Optimizacion.git"
      ],
      "metadata": {
        "id": "rDiF0-Y-XdIv"
      }
    },
    {
      "cell_type": "code",
      "execution_count": 1,
      "metadata": {
        "colab": {
          "base_uri": "https://localhost:8080/"
        },
        "id": "QTQMwgJNV8P5",
        "outputId": "3092be59-9232-4958-c812-d6c5d542da40"
      },
      "outputs": [
        {
          "output_type": "stream",
          "name": "stdout",
          "text": [
            "Looking in indexes: https://pypi.org/simple, https://us-python.pkg.dev/colab-wheels/public/simple/\n",
            "Requirement already satisfied: requests in /usr/local/lib/python3.8/dist-packages (2.25.1)\n",
            "Requirement already satisfied: chardet<5,>=3.0.2 in /usr/local/lib/python3.8/dist-packages (from requests) (4.0.0)\n",
            "Requirement already satisfied: idna<3,>=2.5 in /usr/local/lib/python3.8/dist-packages (from requests) (2.10)\n",
            "Requirement already satisfied: urllib3<1.27,>=1.21.1 in /usr/local/lib/python3.8/dist-packages (from requests) (1.24.3)\n",
            "Requirement already satisfied: certifi>=2017.4.17 in /usr/local/lib/python3.8/dist-packages (from requests) (2022.12.7)\n",
            "Looking in indexes: https://pypi.org/simple, https://us-python.pkg.dev/colab-wheels/public/simple/\n",
            "Collecting tsplib95\n",
            "  Downloading tsplib95-0.7.1-py2.py3-none-any.whl (25 kB)\n",
            "Requirement already satisfied: tabulate~=0.8.7 in /usr/local/lib/python3.8/dist-packages (from tsplib95) (0.8.10)\n",
            "Collecting networkx~=2.1\n",
            "  Downloading networkx-2.8.8-py3-none-any.whl (2.0 MB)\n",
            "\u001b[2K     \u001b[90m━━━━━━━━━━━━━━━━━━━━━━━━━━━━━━━━━━━━━━━━\u001b[0m \u001b[32m2.0/2.0 MB\u001b[0m \u001b[31m50.9 MB/s\u001b[0m eta \u001b[36m0:00:00\u001b[0m\n",
            "\u001b[?25hCollecting Deprecated~=1.2.9\n",
            "  Downloading Deprecated-1.2.13-py2.py3-none-any.whl (9.6 kB)\n",
            "Requirement already satisfied: Click>=6.0 in /usr/local/lib/python3.8/dist-packages (from tsplib95) (7.1.2)\n",
            "Requirement already satisfied: wrapt<2,>=1.10 in /usr/local/lib/python3.8/dist-packages (from Deprecated~=1.2.9->tsplib95) (1.14.1)\n",
            "Installing collected packages: networkx, Deprecated, tsplib95\n",
            "  Attempting uninstall: networkx\n",
            "    Found existing installation: networkx 3.0\n",
            "    Uninstalling networkx-3.0:\n",
            "      Successfully uninstalled networkx-3.0\n",
            "Successfully installed Deprecated-1.2.13 networkx-2.8.8 tsplib95-0.7.1\n"
          ]
        }
      ],
      "source": [
        "!pip install requests    #Hacer llamadas http a paginas de la red\n",
        "!pip install tsplib95    #Modulo para las instancias del problema del TSP"
      ]
    },
    {
      "cell_type": "code",
      "source": [
        "#Cargamos los datos del problema\n",
        "\n",
        "import urllib.request #Hacer llamadas http a paginas de la red\n",
        "import tsplib95       #Modulo para las instancias del problema del TSP\n",
        "import math           #Modulo de funciones matematicas. Se usa para exp"
      ],
      "metadata": {
        "id": "XLH6OREcazsI"
      },
      "execution_count": 2,
      "outputs": []
    },
    {
      "cell_type": "code",
      "source": [
        "#Ahora descargamos el ficheroy\n",
        "\n",
        "file = \"swiss42.tsp\" ; \n",
        "urllib.request.urlretrieve(\"http://comopt.ifi.uni-heidelberg.de/software/TSPLIB95/tsp/swiss42.tsp.gz\", file + '.gz')\n",
        "!gzip -d swiss42.tsp.gz     #Descomprimir el fichero de datos \n"
      ],
      "metadata": {
        "colab": {
          "base_uri": "https://localhost:8080/"
        },
        "id": "y1NE4OPLa7eM",
        "outputId": "00c04148-60dc-4eb2-d8ff-9bac41f73d68"
      },
      "execution_count": 4,
      "outputs": [
        {
          "output_type": "stream",
          "name": "stdout",
          "text": [
            "gzip: swiss42.tsp already exists; do you wish to overwrite (y or n)? y\n"
          ]
        }
      ]
    },
    {
      "cell_type": "code",
      "source": [
        "#Importamos la librería random\n",
        "\n",
        "import random "
      ],
      "metadata": {
        "id": "iGFIX_tpbH1d"
      },
      "execution_count": 5,
      "outputs": []
    },
    {
      "cell_type": "code",
      "source": [
        "#Cargamos los datos\n",
        "\n",
        "problem = tsplib95.load(file)\n",
        "\n",
        "#e imprimimos el problema\n",
        "problem"
      ],
      "metadata": {
        "colab": {
          "base_uri": "https://localhost:8080/"
        },
        "id": "ncThXZsJbUhv",
        "outputId": "23baba14-f3e2-4343-e2e1-c4ee6631ad07"
      },
      "execution_count": 7,
      "outputs": [
        {
          "output_type": "execute_result",
          "data": {
            "text/plain": [
              "<tsplib95.models.StandardProblem at 0x7fb081d39a00>"
            ]
          },
          "metadata": {},
          "execution_count": 7
        }
      ]
    },
    {
      "cell_type": "code",
      "source": [
        "#Queremos ver la distandia de ir del nodo 0 al nodo 1 por ejemplo\n",
        "\n",
        "print(problem.get_weight(0,1))\n",
        "\n",
        "#O del 0 al 3\n",
        "\n",
        "print(problem.get_weight(0,3))"
      ],
      "metadata": {
        "colab": {
          "base_uri": "https://localhost:8080/"
        },
        "id": "R-CgFnphbkp5",
        "outputId": "fd40d3a8-052b-43b9-b0b2-a2aebae1c2ab"
      },
      "execution_count": 10,
      "outputs": [
        {
          "output_type": "execute_result",
          "data": {
            "text/plain": [
              "23"
            ]
          },
          "metadata": {},
          "execution_count": 10
        }
      ]
    },
    {
      "cell_type": "code",
      "source": [
        "#también podemos imprimir la lista de los nodos\n",
        "Nodos = list(problem.get_nodes())\n",
        "print(Nodos)\n",
        "\n",
        "#O las aristas\n",
        "Aristas = list(problem.get_edges())\n",
        "#print(Aristas)"
      ],
      "metadata": {
        "colab": {
          "base_uri": "https://localhost:8080/"
        },
        "id": "UxdQ8D6GcBYd",
        "outputId": "c615d256-19ad-46fb-875c-4f9871081055"
      },
      "execution_count": 14,
      "outputs": [
        {
          "output_type": "stream",
          "name": "stdout",
          "text": [
            "[0, 1, 2, 3, 4, 5, 6, 7, 8, 9, 10, 11, 12, 13, 14, 15, 16, 17, 18, 19, 20, 21, 22, 23, 24, 25, 26, 27, 28, 29, 30, 31, 32, 33, 34, 35, 36, 37, 38, 39, 40, 41]\n"
          ]
        }
      ]
    },
    {
      "cell_type": "code",
      "source": [
        "def crear_solucion(Nodos):\n",
        "  solucion=[Nodos[0]]\n",
        "  for n in Nodos[1:]:\n",
        "    solucion+=[random.choice(list(set(Nodos)-set({Nodos[0]}-set(solucion))))]\n",
        "\n",
        "  return solucion\n",
        "\n",
        "crear_solucion(Nodos)"
      ],
      "metadata": {
        "id": "wJwYcEsUeH6s"
      },
      "execution_count": null,
      "outputs": []
    },
    {
      "cell_type": "code",
      "source": [
        "#Creamos un función que calcule la distancia entre dos nodos, para simplificar la notación\n",
        "\n",
        "def distancia(a,b,problem):\n",
        "  return problem.get_weight(a,b)"
      ],
      "metadata": {
        "id": "DTHIoS2EfNYC"
      },
      "execution_count": 23,
      "outputs": []
    },
    {
      "cell_type": "code",
      "source": [
        "#Creamos una función para calcular la distancia total\n",
        "\n",
        "def distancia_total(solucion,problem):\n",
        "  distancia_total=0\n",
        "  for i in range(len(solucion)-1):\n",
        "    distancia_total+=distancia(solucion[i],solucion[i+1],problem)\n",
        "  return distancia_total+distancia(solucion[len(solucion)-1],solucion[0],problem)"
      ],
      "metadata": {
        "id": "Sx2451OufdmB"
      },
      "execution_count": 19,
      "outputs": []
    },
    {
      "cell_type": "code",
      "source": [
        "s_random=crear_solucion(Nodos)\n",
        "\n",
        "print(distancia_total(s_random,problem))"
      ],
      "metadata": {
        "colab": {
          "base_uri": "https://localhost:8080/"
        },
        "id": "cxpCvdPigCLr",
        "outputId": "2ba2f919-2b99-4541-8b4a-b2f9b838b463"
      },
      "execution_count": 27,
      "outputs": [
        {
          "output_type": "stream",
          "name": "stdout",
          "text": [
            "4757\n"
          ]
        }
      ]
    },
    {
      "cell_type": "code",
      "source": [
        "#Creamos una funcion que genere N soluciones aleatorias, para quedarnos con la mejor\n",
        "\n",
        "def busqueda_aleatoria(problem, N):\n",
        "  #N es el número de iteraciones\n",
        "\n",
        "  Nodos = list(problem.get_nodes())\n",
        "  \n",
        "  mejor_solucion = []                       #Inicializamos con un valor alto\n",
        "  mejor_distancia = float('inf')                    #Inicializamos con un valor alto\n",
        "  \n",
        "  for i in range(N):                                #Criterio de parada: repetir N veces pero podemos incluir otros\n",
        "    solucion = crear_solucion(Nodos)                #Genera una solucion aleatoria\n",
        "    distancia = distancia_total(solucion, problem)  #Calcula el valor objetivo(distancia total)\n",
        "    \n",
        "    if distancia < mejor_distancia:                 #Compara con la mejor obtenida hasta ahora\n",
        "      mejor_solucion = solucion\n",
        "      mejor_distancia = distancia\n",
        "      \n",
        "      \n",
        "  print(\"Mejor solución:\" , mejor_solucion) \n",
        "  print(\"Distancia     :\" , mejor_distancia) \n",
        "  return mejor_solucion  \n",
        "\n",
        "    \n",
        "#Busqueda aleatoria con 5000 iteraciones    \n",
        "solucion = busqueda_aleatoria(problem, 5000) "
      ],
      "metadata": {
        "colab": {
          "base_uri": "https://localhost:8080/"
        },
        "id": "QvsBYuP8gdNa",
        "outputId": "506a9809-12dd-40f8-f0a4-fa1eec75fa72"
      },
      "execution_count": 59,
      "outputs": [
        {
          "output_type": "stream",
          "name": "stdout",
          "text": [
            "Mejor solución: [0, 37, 1, 27, 7, 4, 16, 15, 33, 36, 11, 11, 12, 30, 39, 13, 10, 30, 29, 1, 6, 26, 14, 37, 3, 20, 30, 2, 7, 7, 3, 6, 22, 8, 27, 6, 15, 1, 4, 16, 19, 17]\n",
            "Distancia     : 2966\n"
          ]
        }
      ]
    },
    {
      "cell_type": "markdown",
      "source": [
        "## Búsqueda Local 2-opt (2 nodos)"
      ],
      "metadata": {
        "id": "8G8vNny2j3kn"
      }
    },
    {
      "cell_type": "code",
      "source": [
        "def generar_vecina(solucion):\n",
        "\n",
        "  mejor_solucion=[]\n",
        "  mejor_distancia=10e100\n",
        "\n",
        "  for i in range(1,len(solucion)-1):\n",
        "    for j in range(i+1,len(solucion)-1):\n",
        "\n",
        "      vecina = solucion[:i] + [solucion[j]] + solucion[i+1:j] + [solucion[i]] + solucion[j+1:]\n",
        "\n",
        "      distancia_vecina = distancia_total(vecina,problem)\n",
        "\n",
        "      if distancia_vecina <= mejor_distancia:\n",
        "        mejor_distancia = distancia_vecina\n",
        "        mejor_solucion = vecina\n",
        "\n",
        "  return mejor_solucion"
      ],
      "metadata": {
        "id": "Ip3Sior3kBXY"
      },
      "execution_count": 60,
      "outputs": []
    },
    {
      "cell_type": "code",
      "source": [
        "def busqueda_local(problem):\n",
        "\n",
        "  mejor_solucion=[]\n",
        "\n",
        "  solucion_referencia = crear_solucion(Nodos)\n",
        "  mejor_distancia = distancia_total(solucion_referencia, problem)\n",
        "\n",
        "  iteracion=0             #Un contador para saber las iteraciones que hacemos\n",
        "  while(1):\n",
        "    iteracion +=1         #Incrementamos el contador\n",
        "\n",
        "    #Obtenemos la mejor vecina ...\n",
        "    vecina = generar_vecina(solucion_referencia)\n",
        "\n",
        "    #... y la evaluamos para ver si mejoramos respecto a lo encontrado hasta el momento\n",
        "    distancia_vecina = distancia_total(vecina, problem)\n",
        " \n",
        "    #Si no mejoramos hay que terminar. Hemos llegado a un minimo local(según nuestro operador de vencindad 2-opt)\n",
        "    if distancia_vecina < mejor_distancia:\n",
        "      mejor_solucion = vecina                   #Guarda la mejor solución encontrada\n",
        "      mejor_distancia = distancia_vecina\n",
        "\n",
        "    else:\n",
        "      print(\"En la iteracion \", iteracion, \", la mejor solución encontrada es:\" , mejor_solucion) \n",
        "      print(\"Distancia     :\" , mejor_distancia) \n",
        "      return mejor_solucion\n",
        "      \n",
        "    solucion_referencia = vecina\n",
        " \n",
        " \n",
        "sol = busqueda_local(problem)  "
      ],
      "metadata": {
        "colab": {
          "base_uri": "https://localhost:8080/"
        },
        "id": "gKr17G5BlNES",
        "outputId": "89ca1c6c-6fc2-49d8-8fd4-931bfd27ee3d"
      },
      "execution_count": 86,
      "outputs": [
        {
          "output_type": "stream",
          "name": "stdout",
          "text": [
            "En la iteracion  27 , la mejor solución encontrada es: [0, 18, 18, 18, 4, 4, 3, 3, 2, 32, 32, 32, 34, 31, 17, 17, 7, 7, 15, 16, 14, 14, 26, 12, 11, 10, 2, 28, 8, 9, 21, 24, 22, 34, 33, 33, 35, 35, 36, 17, 1, 27]\n",
            "Distancia     : 1422\n"
          ]
        }
      ]
    }
  ]
}