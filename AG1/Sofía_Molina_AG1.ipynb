{
  "nbformat": 4,
  "nbformat_minor": 0,
  "metadata": {
    "colab": {
      "provenance": [],
      "collapsed_sections": [
        "zqwWwG2ApgEV",
        "a0hP4Fv2pkw1",
        "5bWghC9tpoNa",
        "4MhKSwYApZKU"
      ],
      "authorship_tag": "ABX9TyP3B8XkkNg/JqgkvgjG53pD",
      "include_colab_link": true
    },
    "kernelspec": {
      "name": "python3",
      "display_name": "Python 3"
    },
    "language_info": {
      "name": "python"
    }
  },
  "cells": [
    {
      "cell_type": "markdown",
      "metadata": {
        "id": "view-in-github",
        "colab_type": "text"
      },
      "source": [
        "<a href=\"https://colab.research.google.com/github/sofiamln/03MIAR---Algoritmos-de-Optimizacion/blob/main/AG1/Sof%C3%ADa_Molina_AG1.ipynb\" target=\"_parent\"><img src=\"https://colab.research.google.com/assets/colab-badge.svg\" alt=\"Open In Colab\"/></a>"
      ]
    },
    {
      "cell_type": "markdown",
      "source": [
        "Actividad Guiada 1 de Algoritmos de Optimización\n",
        "\n",
        "Sofía Molina Arias <br>\n",
        "https://colab.research.google.com/drive/1NUs-IYjqtb7tsBKR5fCYMmYHDOzigDz2?usp=sharing\n",
        "\n",
        "Enlace Github: https://github.com/sofiamln/03MIAR---Algoritmos-de-Optimizacion.git"
      ],
      "metadata": {
        "id": "RoJRsHkxQqaY"
      }
    },
    {
      "cell_type": "markdown",
      "source": [
        "#Torres de Hanoi"
      ],
      "metadata": {
        "id": "zqwWwG2ApgEV"
      }
    },
    {
      "cell_type": "code",
      "execution_count": 1,
      "metadata": {
        "colab": {
          "base_uri": "https://localhost:8080/"
        },
        "id": "w10LfaXdPZXD",
        "outputId": "70ff9600-c959-4555-f0ac-a8dde5edc44d"
      },
      "outputs": [
        {
          "output_type": "stream",
          "name": "stdout",
          "text": [
            "Lleva la ficha desde 1 hasta 2\n",
            "Lleva la ficha desde 1 hasta 3\n",
            "Lleva la ficha desde 2 hasta 3\n",
            "Lleva la ficha desde 1 hasta 2\n",
            "Lleva la ficha desde 3 hasta 1\n",
            "Lleva la ficha desde 3 hasta 2\n",
            "Lleva la ficha desde 1 hasta 2\n",
            "Lleva la ficha desde 1 hasta 3\n",
            "Lleva la ficha desde 2 hasta 3\n",
            "Lleva la ficha desde 2 hasta 1\n",
            "Lleva la ficha desde 3 hasta 1\n",
            "Lleva la ficha desde 2 hasta 3\n",
            "Lleva la ficha desde 1 hasta 2\n",
            "Lleva la ficha desde 1 hasta 3\n",
            "Lleva la ficha desde 2 hasta 3\n",
            "Lleva la ficha desde 1 hasta 2\n",
            "Lleva la ficha desde 3 hasta 1\n",
            "Lleva la ficha desde 3 hasta 2\n",
            "Lleva la ficha desde 1 hasta 2\n",
            "Lleva la ficha desde 3 hasta 1\n",
            "Lleva la ficha desde 2 hasta 3\n",
            "Lleva la ficha desde 2 hasta 1\n",
            "Lleva la ficha desde 3 hasta 1\n",
            "Lleva la ficha desde 3 hasta 2\n",
            "Lleva la ficha desde 1 hasta 2\n",
            "Lleva la ficha desde 1 hasta 3\n",
            "Lleva la ficha desde 2 hasta 3\n",
            "Lleva la ficha desde 1 hasta 2\n",
            "Lleva la ficha desde 3 hasta 1\n",
            "Lleva la ficha desde 3 hasta 2\n",
            "Lleva la ficha desde 1 hasta 2\n",
            "Lleva la ficha desde 1 hasta 3\n",
            "Lleva la ficha desde 2 hasta 3\n",
            "Lleva la ficha desde 2 hasta 1\n",
            "Lleva la ficha desde 3 hasta 1\n",
            "Lleva la ficha desde 2 hasta 3\n",
            "Lleva la ficha desde 1 hasta 2\n",
            "Lleva la ficha desde 1 hasta 3\n",
            "Lleva la ficha desde 2 hasta 3\n",
            "Lleva la ficha desde 2 hasta 1\n",
            "Lleva la ficha desde 3 hasta 1\n",
            "Lleva la ficha desde 3 hasta 2\n",
            "Lleva la ficha desde 1 hasta 2\n",
            "Lleva la ficha desde 3 hasta 1\n",
            "Lleva la ficha desde 2 hasta 3\n",
            "Lleva la ficha desde 2 hasta 1\n",
            "Lleva la ficha desde 3 hasta 1\n",
            "Lleva la ficha desde 2 hasta 3\n",
            "Lleva la ficha desde 1 hasta 2\n",
            "Lleva la ficha desde 1 hasta 3\n",
            "Lleva la ficha desde 2 hasta 3\n",
            "Lleva la ficha desde 1 hasta 2\n",
            "Lleva la ficha desde 3 hasta 1\n",
            "Lleva la ficha desde 3 hasta 2\n",
            "Lleva la ficha desde 1 hasta 2\n",
            "Lleva la ficha desde 1 hasta 3\n",
            "Lleva la ficha desde 2 hasta 3\n",
            "Lleva la ficha desde 2 hasta 1\n",
            "Lleva la ficha desde 3 hasta 1\n",
            "Lleva la ficha desde 2 hasta 3\n",
            "Lleva la ficha desde 1 hasta 2\n",
            "Lleva la ficha desde 1 hasta 3\n",
            "Lleva la ficha desde 2 hasta 3\n"
          ]
        }
      ],
      "source": [
        "#Torres de hanoi\n",
        "\n",
        "def Torres_Hanoi(N, desde, hasta):\n",
        "  #N: número de fichas\n",
        "  #desde: número de poste desde\n",
        "  #hasta: número de poste hasta\n",
        "\n",
        "  if N==1:\n",
        "    print('Lleva la ficha desde ' + str(desde) + ' hasta ' + str(hasta))\n",
        "  else: \n",
        "    Torres_Hanoi(N-1, desde, 6-desde-hasta)\n",
        "    print('Lleva la ficha desde ' + str(desde) + ' hasta ' + str(hasta))\n",
        "    Torres_Hanoi(N-1, 6-desde-hasta, hasta)\n",
        "\n",
        "Torres_Hanoi(6,1,3)"
      ]
    },
    {
      "cell_type": "markdown",
      "source": [
        "#Cambio de monedas"
      ],
      "metadata": {
        "id": "a0hP4Fv2pkw1"
      }
    },
    {
      "cell_type": "code",
      "source": [
        "def cambio_monedas(cantidad,sistema):\n",
        "  solucion={}\n",
        "\n",
        "  for i in sistema:\n",
        "    monedas=cantidad//i\n",
        "    solucion[i]=monedas\n",
        "    cantidad -= monedas*i\n",
        "\n",
        "    if cantidad==0:\n",
        "      return solucion\n",
        "\n",
        "print(cambio_monedas(80,[25,10,5,1]))\n"
      ],
      "metadata": {
        "colab": {
          "base_uri": "https://localhost:8080/"
        },
        "id": "0T2goUCwg4OO",
        "outputId": "31be91d8-aff4-4541-9174-a399d172a4ac"
      },
      "execution_count": 2,
      "outputs": [
        {
          "output_type": "stream",
          "name": "stdout",
          "text": [
            "{25: 3, 10: 0, 5: 1}\n"
          ]
        }
      ]
    },
    {
      "cell_type": "markdown",
      "source": [
        "#Problema de las 4 reinas"
      ],
      "metadata": {
        "id": "5bWghC9tpoNa"
      }
    },
    {
      "cell_type": "code",
      "source": [
        "def solucion_prometedora(solucion,etapa):\n",
        "  for i in range(etapa+1):\n",
        "    if solucion.count(solucion[i])>1:\n",
        "      return False\n",
        "    for j in range(i+1,etapa+1):\n",
        "      if abs(i-j)==abs(solucion[i]-solucion[j]):\n",
        "        return False\n",
        "  return True\n",
        "\n",
        "def dibujar_solucion(solucion):\n",
        "  n=len(solucion)\n",
        "  for i in range(n):\n",
        "    print(\"\")\n",
        "    for j in range(n):\n",
        "      if solucion[j]==i+1:\n",
        "        print('X',end='')\n",
        "      else:\n",
        "        print('-',end='')\n",
        "      "
      ],
      "metadata": {
        "id": "Gxp6TcvXk0_m"
      },
      "execution_count": 25,
      "outputs": []
    },
    {
      "cell_type": "code",
      "source": [
        "def reinas(N, solucion=[],etapa=0):\n",
        "  #N: nº de reinas del tablero NxN\n",
        "  #solucion=[a_1,a_2,...,a_N] donde la posición i indica la columna y a_i la fila en la que se encuentra la reina en esa columna\n",
        "  #etapa\n",
        "  if len(solucion)==0:\n",
        "    solucion=[0 for i in range(N)]\n",
        "  \n",
        "  for i in range(1,N+1):\n",
        "    solucion[etapa]=i\n",
        "\n",
        "    if solucion_prometedora(solucion,etapa):\n",
        "      if etapa==N-1:\n",
        "        print('Solución: ', solucion)\n",
        "        dibujar_solucion(solucion)\n",
        "        print('\\n')\n",
        "      else:\n",
        "        reinas(N,solucion,etapa+1)\n",
        "    else:\n",
        "      None\n",
        "\n",
        "    solucion[etapa]=0"
      ],
      "metadata": {
        "id": "eozzQsrFoVIZ"
      },
      "execution_count": 26,
      "outputs": []
    },
    {
      "cell_type": "code",
      "source": [
        "reinas(4,[],0)"
      ],
      "metadata": {
        "colab": {
          "base_uri": "https://localhost:8080/"
        },
        "id": "DIFPW0Rtmygz",
        "outputId": "d2412651-717e-4864-e1e9-619451788233"
      },
      "execution_count": 34,
      "outputs": [
        {
          "output_type": "stream",
          "name": "stdout",
          "text": [
            "Solución:  [2, 4, 1, 3]\n",
            "\n",
            "--X-\n",
            "X---\n",
            "---X\n",
            "-X--\n",
            "\n",
            "Solución:  [3, 1, 4, 2]\n",
            "\n",
            "-X--\n",
            "---X\n",
            "X---\n",
            "--X-\n",
            "\n"
          ]
        }
      ]
    },
    {
      "cell_type": "markdown",
      "source": [
        "#Práctica individual\n",
        "\n",
        "Encontrar los dos puntos más cercanos"
      ],
      "metadata": {
        "id": "4MhKSwYApZKU"
      }
    },
    {
      "cell_type": "markdown",
      "source": [
        "**Algoritmo mediante Fuerza bruta para 1D:**"
      ],
      "metadata": {
        "id": "mfqJNr2ystaK"
      }
    },
    {
      "cell_type": "code",
      "source": [
        "def mas_cercanos(lista=[]):\n",
        "  if len(lista)<1:\n",
        "    print('Debe haber mínimo dos puntos diferentes')\n",
        "  else:\n",
        "    minimo=abs(lista[1]-lista[0])\n",
        "    punto1=lista[0]\n",
        "    punto2=lista[1]\n",
        "    for i in range(len(lista)):\n",
        "      for j in range(i+1,len(lista)):\n",
        "        dist=abs(lista[i]-lista[j])\n",
        "        if dist<minimo:\n",
        "          minimo=dist\n",
        "          punto1=lista[i]\n",
        "          punto2=lista[j]\n",
        "  return('Distancia: ',minimo,punto1,punto2)"
      ],
      "metadata": {
        "id": "qmBonfmVqOHs"
      },
      "execution_count": 39,
      "outputs": []
    },
    {
      "cell_type": "code",
      "source": [
        "print(mas_cercanos([11,9,7,2,1,-10]))"
      ],
      "metadata": {
        "colab": {
          "base_uri": "https://localhost:8080/"
        },
        "id": "RlKAE6dsrU6Y",
        "outputId": "d39b29d0-e68d-45e8-e8cb-665fc8668c9e"
      },
      "execution_count": 43,
      "outputs": [
        {
          "output_type": "stream",
          "name": "stdout",
          "text": [
            "('Distancia: ', 1, 2, 1)\n"
          ]
        }
      ]
    },
    {
      "cell_type": "markdown",
      "source": [
        "**Aplicando Divide y Vencerás para 1D**"
      ],
      "metadata": {
        "id": "eZiLDa7jzoNl"
      }
    },
    {
      "cell_type": "code",
      "source": [
        "def ordenacion(list, size):\n",
        "  count = 0\n",
        "\n",
        "  for i in range(size - 1):\n",
        "    if list[i] > list[i + 1]:\n",
        "      list[i], list[i + 1] = list[i + 1], list[i]\n",
        "      count += 1\n",
        "  \n",
        "  if count == 0 or len(list) - 1 == 2:\n",
        "    return\n",
        "\n",
        "  return ordenacion(list, len(list) - 1)"
      ],
      "metadata": {
        "id": "DVycOs-A4O9w"
      },
      "execution_count": 54,
      "outputs": []
    },
    {
      "cell_type": "code",
      "source": [
        "def minimodistancia(lista=[]):\n",
        "  if len(lista)==1:\n",
        "    return \n",
        "  else:\n",
        "    minimo=abs(lista[1]-lista[0])\n",
        "    punto1=lista[0]\n",
        "    punto2=lista[1]\n",
        "    for i in range(len(lista)):\n",
        "      for j in range(i+1,len(lista)):\n",
        "        dist=abs(lista[i]-lista[j])\n",
        "        if dist<minimo:\n",
        "          minimo=dist\n",
        "          punto1=lista[i]\n",
        "          punto2=lista[j]\n",
        "  return(minimo,punto1,punto2)"
      ],
      "metadata": {
        "id": "Sh5GOdjn9xBS"
      },
      "execution_count": 67,
      "outputs": []
    },
    {
      "cell_type": "code",
      "source": [
        "def mas_cercanosDyD(lista=[]):\n",
        "  if len(lista)<1:\n",
        "    print('Debe haber mínimo dos puntos diferentes')\n",
        "  else:\n",
        "    #Ordenamos los puntos por la coordenada x\n",
        "    ordenacion(lista,len(lista))\n",
        "    #Dividimos la lista ordenadada en dos\n",
        "    mitad=len(lista)//2\n",
        "    izq,dch=lista[:mitad],lista[mitad:]\n",
        "    print(izq,dch)\n",
        "\n",
        "    #Calculamos el mínimo de cada una de las dos mitades\n",
        "    min_izq,p1_izq,p2_izq=minimodistancia(izq)\n",
        "    min_dch,p1_dch,p2_dch=minimodistancia(dch)\n",
        "\n",
        "    #Comprobamos si la distancias de la primera mitad es menor, o hay dos puntos más cercanos en la segunda\n",
        "    if min_izq<=min_dch:\n",
        "      dist,p1,p2=min_izq,p1_izq,p2_izq\n",
        "    else: \n",
        "      dist,p1,p2=min_dch,p1_dch,p2_dch\n",
        "    \n",
        "    #Comprobamos si los puntos más próximos a la divisoria son los más cercanos entre sí\n",
        "    if abs(izq[-1]-dch[0])<dist:\n",
        "      dist,p1,p2=abs(izq[-1]-dch[0]),izq[-1],dch[0]\n",
        "      \n",
        "  return('Distancia: ',dist,p1,p2)"
      ],
      "metadata": {
        "id": "i7e8lB1mzvyn"
      },
      "execution_count": 68,
      "outputs": []
    },
    {
      "cell_type": "markdown",
      "source": [
        "Ponemos dos listas de ejemplo para realizar la comprobación."
      ],
      "metadata": {
        "id": "Npn04PcqBcUZ"
      }
    },
    {
      "cell_type": "code",
      "source": [
        "lista=[24, 15, 48, 49, 2, 19, 42, 0, 45, 40, 41, 18, 12, 9, 7, 13, 39, 17, 35, 21, 44, 6, 20, 10, 4, 25, 46, 43, 33, 5]\n",
        "print(mas_cercanosDyD(lista))\n",
        "print(lista)"
      ],
      "metadata": {
        "colab": {
          "base_uri": "https://localhost:8080/"
        },
        "id": "fLHkxlF34tcj",
        "outputId": "11644af7-6301-4f85-ea7f-5204cd56d4b3"
      },
      "execution_count": 70,
      "outputs": [
        {
          "output_type": "stream",
          "name": "stdout",
          "text": [
            "[0, 2, 4, 5, 6, 7, 9, 10, 12, 13, 15, 17, 18, 19, 20] [21, 24, 25, 33, 35, 39, 40, 41, 42, 43, 44, 45, 46, 48, 49]\n",
            "('Distancia: ', 1, 4, 5)\n",
            "[0, 2, 4, 5, 6, 7, 9, 10, 12, 13, 15, 17, 18, 19, 20, 21, 24, 25, 33, 35, 39, 40, 41, 42, 43, 44, 45, 46, 48, 49]\n"
          ]
        }
      ]
    },
    {
      "cell_type": "code",
      "source": [
        "import random\n",
        "randomlist = random.sample(range(0, 400), 30) # Creamos una lista aletoria\n",
        "\n",
        "print(randomlist)\n",
        "\n",
        "print(mas_cercanosDyD(randomlist))"
      ],
      "metadata": {
        "colab": {
          "base_uri": "https://localhost:8080/"
        },
        "id": "104uKs3NALEp",
        "outputId": "229b9e9c-c502-43e8-ed2a-9eef498c70e0"
      },
      "execution_count": 73,
      "outputs": [
        {
          "output_type": "stream",
          "name": "stdout",
          "text": [
            "[242, 309, 376, 129, 378, 247, 304, 271, 320, 128, 364, 142, 178, 285, 53, 38, 287, 89, 148, 73, 160, 255, 168, 209, 106, 240, 77, 286, 326, 145]\n",
            "[38, 53, 73, 77, 89, 106, 128, 129, 142, 145, 148, 160, 168, 178, 209] [240, 242, 247, 255, 271, 285, 286, 287, 304, 309, 320, 326, 364, 376, 378]\n",
            "('Distancia: ', 1, 128, 129)\n"
          ]
        }
      ]
    },
    {
      "cell_type": "markdown",
      "source": [
        "**Aplicando Divide y Vencerás para 2D**"
      ],
      "metadata": {
        "id": "S8AvkPZs4aD6"
      }
    },
    {
      "cell_type": "code",
      "source": [
        "from math import sqrt\n",
        "\n",
        "def ordenacion2D(lista):\n",
        "    for i in range(len(lista)):\n",
        "        for j in range(len(lista)-1):\n",
        "            if lista[j+1][0]<lista[j][0]:\n",
        "                lista[j],lista[j+1]=lista[j+1],lista[j]\n",
        "    return lista\n",
        "        "
      ],
      "metadata": {
        "id": "NUvZpd-UFnmo"
      },
      "execution_count": 91,
      "outputs": []
    },
    {
      "cell_type": "code",
      "source": [
        "def distancia2D(a,b):\n",
        "  distancia=sqrt((a[0]-b[0])**2+(a[1]-b[1])**2)\n",
        "  return distancia"
      ],
      "metadata": {
        "id": "qGvAZi-_IzHt"
      },
      "execution_count": 112,
      "outputs": []
    },
    {
      "cell_type": "code",
      "source": [
        "def minimodistancia2D(lista=[]):\n",
        "  if len(lista)==1:\n",
        "    return \n",
        "  else:\n",
        "    #minimo=sqrt((lista[1][0]-lista[0][0])**2+((lista[1][1]-lista[0][1])**2))\n",
        "    minimo=distancia2D(lista[1],lista[0])\n",
        "    punto1=lista[0]\n",
        "    punto2=lista[1]\n",
        "\n",
        "    for i in range(len(lista)):\n",
        "      for j in range(i+1,len(lista)):\n",
        "        #dist=sqrt((lista[j][0]-lista[j][0])**2+((lista[i][1]-lista[j][1])**2))\n",
        "        dist=distancia2D(lista[j],lista[i])\n",
        "        if dist<minimo:\n",
        "          minimo=dist\n",
        "          punto1=lista[i]\n",
        "          punto2=lista[j]\n",
        "          \n",
        "  return(minimo,punto1,punto2)"
      ],
      "metadata": {
        "id": "xjsdCb4vF__y"
      },
      "execution_count": 114,
      "outputs": []
    },
    {
      "cell_type": "code",
      "source": [
        "def mas_cercanos2D(lista=[]):\n",
        "  \n",
        "  if len(lista)<1:\n",
        "    print('Debe haber mínimo dos puntos diferentes')\n",
        "  else:\n",
        "    #Ordenamos los puntos por la coordenada x\n",
        "    ordenacion2D(lista)\n",
        "    #Dividimos la lista ordenadada en dos\n",
        "    mitad=len(lista)//2\n",
        "    izq,dch=lista[:mitad],lista[mitad:]\n",
        "    print(izq,dch)\n",
        "\n",
        "    #Calculamos el mínimo de cada una de las dos mitades\n",
        "    min_izq,p1_izq,p2_izq=minimodistancia2D(izq)\n",
        "    min_dch,p1_dch,p2_dch=minimodistancia2D(dch)\n",
        "\n",
        "    #Comprobamos si la distancias de la primera mitad es menor, o hay dos puntos más cercanos en la segunda\n",
        "    if min_izq<=min_dch:\n",
        "      dist,p1,p2=min_izq,p1_izq,p2_izq\n",
        "    else: \n",
        "      dist,p1,p2=min_dch,p1_dch,p2_dch\n",
        "    \n",
        "    #Comprobamos si los puntos más próximos a la divisoria son los más cercanos entre sí\n",
        "    \n",
        "    #medio=sqrt((izq[-1][0]-dch[0][0])**2+((izq[-1][1]-dch[0][1])**2))\n",
        "    medio=distancia2D(izq[-1],dch[0])\n",
        "    if medio<dist:\n",
        "      dist,p1,p2=medio,izq[-1],dch[0]\n",
        "      \n",
        "  return('Distancia: ',dist,p1,p2)"
      ],
      "metadata": {
        "id": "Z4Fqm3pUF46a"
      },
      "execution_count": 115,
      "outputs": []
    },
    {
      "cell_type": "code",
      "source": [
        "lista=[(2,1),(2,2),(-4,2),(0,0),(6,5)]\n",
        "print(mas_cercanos2D(lista))\n",
        "\n",
        "lista=[(20,15),(11,32),(-24,28),(0.13,0.92),(6,5)]\n",
        "print(mas_cercanos2D(lista))"
      ],
      "metadata": {
        "colab": {
          "base_uri": "https://localhost:8080/"
        },
        "id": "rT7o-bnmG7a6",
        "outputId": "55e6cc51-9be7-4208-f598-dccec48fd8f6"
      },
      "execution_count": 118,
      "outputs": [
        {
          "output_type": "stream",
          "name": "stdout",
          "text": [
            "[(-4, 2), (0, 0)] [(2, 1), (2, 2), (6, 5)]\n",
            "('Distancia: ', 1.0, (2, 1), (2, 2))\n",
            "[(-24, 28), (0.13, 0.92)] [(6, 5), (11, 32), (20, 15)]\n",
            "('Distancia: ', 7.148657216568718, (0.13, 0.92), (6, 5))\n"
          ]
        }
      ]
    },
    {
      "cell_type": "markdown",
      "source": [
        "**Aplicando Divide y Vencerás para 3D**"
      ],
      "metadata": {
        "id": "FGnRfVj7KU6x"
      }
    },
    {
      "cell_type": "code",
      "source": [
        "def distancia3D(a,b):\n",
        "  distancia=sqrt((a[0]-b[0])**2+(a[1]-b[1])**2+(a[2]-b[2])**2)\n",
        "  return distancia"
      ],
      "metadata": {
        "id": "cuqe8WAlKjje"
      },
      "execution_count": 119,
      "outputs": []
    },
    {
      "cell_type": "code",
      "source": [
        "def minimodistancia3D(lista=[]):\n",
        "  if len(lista)==1:\n",
        "    return \n",
        "  else:\n",
        "    minimo=distancia3D(lista[1],lista[0])\n",
        "    punto1=lista[0]\n",
        "    punto2=lista[1]\n",
        "\n",
        "    for i in range(len(lista)):\n",
        "      for j in range(i+1,len(lista)):\n",
        "        dist=distancia3D(lista[j],lista[i])\n",
        "        if dist<minimo:\n",
        "          minimo=dist\n",
        "          punto1=lista[i]\n",
        "          punto2=lista[j]\n",
        "          \n",
        "  return(minimo,punto1,punto2)"
      ],
      "metadata": {
        "id": "YY4StZ40Kwjh"
      },
      "execution_count": 120,
      "outputs": []
    },
    {
      "cell_type": "code",
      "source": [
        "def mas_cercanos3D(lista=[]):\n",
        "  \n",
        "  if len(lista)<1:\n",
        "    print('Debe haber mínimo dos puntos diferentes')\n",
        "  else:\n",
        "    #Ordenamos los puntos por la coordenada x\n",
        "    ordenacion2D(lista)\n",
        "    #Dividimos la lista ordenadada en dos\n",
        "    mitad=len(lista)//2\n",
        "    izq,dch=lista[:mitad],lista[mitad:]\n",
        "    print(izq,dch)\n",
        "\n",
        "    #Calculamos el mínimo de cada una de las dos mitades\n",
        "    min_izq,p1_izq,p2_izq=minimodistancia3D(izq)\n",
        "    min_dch,p1_dch,p2_dch=minimodistancia3D(dch)\n",
        "\n",
        "    #Comprobamos si la distancias de la primera mitad es menor, o hay dos puntos más cercanos en la segunda\n",
        "    if min_izq<=min_dch:\n",
        "      dist,p1,p2=min_izq,p1_izq,p2_izq\n",
        "    else: \n",
        "      dist,p1,p2=min_dch,p1_dch,p2_dch\n",
        "    \n",
        "    #Comprobamos si los puntos más próximos a la divisoria son los más cercanos entre sí\n",
        "    \n",
        "    medio=distancia3D(izq[-1],dch[0])\n",
        "    if medio<dist:\n",
        "      dist,p1,p2=medio,izq[-1],dch[0]\n",
        "      \n",
        "  return('Distancia: ',dist,p1,p2)"
      ],
      "metadata": {
        "id": "jotTm8LPK3AV"
      },
      "execution_count": 121,
      "outputs": []
    },
    {
      "cell_type": "code",
      "source": [
        "lista=[(2,1,2),(2,2,0),(-4,2,3),(0,0,5),(6,5,8)]\n",
        "print(mas_cercanos3D(lista))"
      ],
      "metadata": {
        "colab": {
          "base_uri": "https://localhost:8080/"
        },
        "id": "CkBriBMJLACY",
        "outputId": "eb3373de-ce2a-444e-e71e-5bc1ddc6fe0d"
      },
      "execution_count": 122,
      "outputs": [
        {
          "output_type": "stream",
          "name": "stdout",
          "text": [
            "[(-4, 2, 3), (0, 0, 5)] [(2, 1, 2), (2, 2, 0), (6, 5, 8)]\n",
            "('Distancia: ', 2.23606797749979, (2, 1, 2), (2, 2, 0))\n"
          ]
        }
      ]
    }
  ]
}